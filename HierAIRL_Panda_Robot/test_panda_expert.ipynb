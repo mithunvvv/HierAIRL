{
 "cells": [
  {
   "cell_type": "code",
   "execution_count": 1,
   "metadata": {},
   "outputs": [],
   "source": [
    "import torch\n",
    "import numpy as np\n",
    "import json \n",
    "import os \n",
    "import pandas as pd "
   ]
  },
  {
   "cell_type": "code",
   "execution_count": 2,
   "metadata": {},
   "outputs": [
    {
     "name": "stderr",
     "output_type": "stream",
     "text": [
      "/tmp/ipykernel_1071634/539940586.py:1: FutureWarning: You are using `torch.load` with `weights_only=False` (the current default value), which uses the default pickle module implicitly. It is possible to construct malicious pickle data which will execute arbitrary code during unpickling (See https://github.com/pytorch/pytorch/blob/main/SECURITY.md#untrusted-models for more details). In a future release, the default value for `weights_only` will be flipped to `True`. This limits the functions that could be executed during unpickling. Arbitrary objects will no longer be allowed to be loaded via this mode unless they are explicitly allowlisted by the user via `torch.serialization.add_safe_globals`. We recommend you start setting `weights_only=True` for any use case where you don't have full control of the loaded file. Please open an issue on GitHub for any issues related to this experimental feature.\n",
      "  hopper_expert = torch.load(\"/home/uoft/mithun/HierAIRL/HierAIRL_Panda_Robot/data/mujoco/Hopper-v2_sample.torch\")\n"
     ]
    }
   ],
   "source": [
    "hopper_expert = torch.load(\"/home/uoft/mithun/HierAIRL/HierAIRL_Panda_Robot/data/mujoco/Hopper-v2_sample.torch\")"
   ]
  },
  {
   "cell_type": "code",
   "execution_count": 37,
   "metadata": {},
   "outputs": [
    {
     "data": {
      "text/plain": [
       "tuple"
      ]
     },
     "execution_count": 37,
     "metadata": {},
     "output_type": "execute_result"
    }
   ],
   "source": [
    "ep_1 = hopper_expert[0]\n",
    "len(ep_1[2])\n",
    "type(ep_1)"
   ]
  },
  {
   "cell_type": "code",
   "execution_count": 15,
   "metadata": {},
   "outputs": [],
   "source": [
    "panda_npz = np.load(\"/home/uoft/mithun/HierAIRL/Panda_Robot/logs/tqc/PandaPickAndPlace-v3_1/evaluations.npz\") "
   ]
  },
  {
   "cell_type": "code",
   "execution_count": 19,
   "metadata": {},
   "outputs": [
    {
     "name": "stdout",
     "output_type": "stream",
     "text": [
      "['timesteps', 'results', 'ep_lengths', 'successes']\n"
     ]
    }
   ],
   "source": [
    "print(panda_npz.files)"
   ]
  },
  {
   "cell_type": "code",
   "execution_count": 25,
   "metadata": {},
   "outputs": [
    {
     "data": {
      "text/plain": [
       "5"
      ]
     },
     "execution_count": 25,
     "metadata": {},
     "output_type": "execute_result"
    }
   ],
   "source": [
    "results = panda_npz[\"successes\"]\n",
    "len(results[0])"
   ]
  },
  {
   "cell_type": "code",
   "execution_count": 28,
   "metadata": {},
   "outputs": [
    {
     "name": "stderr",
     "output_type": "stream",
     "text": [
      "/tmp/ipykernel_1071634/4284586925.py:1: DtypeWarning: Columns (0,1,2,3) have mixed types. Specify dtype option on import or set low_memory=False.\n",
      "  df =  pd.read_csv(\"/home/uoft/mithun/HierAIRL/Panda_Robot/logs/tqc/PandaPickAndPlace-v3_1/0.monitor.csv\")\n"
     ]
    }
   ],
   "source": [
    "df =  pd.read_csv(\"/home/uoft/mithun/HierAIRL/Panda_Robot/logs/tqc/PandaPickAndPlace-v3_1/0.monitor.csv\")"
   ]
  },
  {
   "cell_type": "code",
   "execution_count": 30,
   "metadata": {},
   "outputs": [
    {
     "name": "stdout",
     "output_type": "stream",
     "text": [
      "         #{\"t_start\": 1696324608.521033  \"env_id\": \"PandaPickAndPlace-v3\"}\n",
      "r     l                               t                         is_success\n",
      "-50.0 50                       1.670564                              False\n",
      "      50                       1.743344                              False\n",
      "      50                       2.944503                              False\n",
      "      50                       3.804187                              False\n",
      "...                                 ...                                ...\n",
      "-5.0  6                    92632.556277                               True\n",
      "-8.0  9                    92632.726702                               True\n",
      "      9                    92632.903485                               True\n",
      "-6.0  7                    92633.032599                               True\n",
      "-8.0  9                     92633.20014                               True\n",
      "\n",
      "[452912 rows x 2 columns]\n"
     ]
    }
   ],
   "source": [
    "print(df)\n"
   ]
  },
  {
   "cell_type": "code",
   "execution_count": 32,
   "metadata": {},
   "outputs": [],
   "source": [
    "vecnormalize = np.load(\"/home/uoft/mithun/HierAIRL/Panda_Robot/logs/tqc/PandaPickAndPlace-v3_1/PandaPickAndPlace-v3/vecnormalize.pkl\", allow_pickle=True)"
   ]
  },
  {
   "cell_type": "code",
   "execution_count": 35,
   "metadata": {},
   "outputs": [
    {
     "data": {
      "text/plain": [
       "['__abstractmethods__',\n",
       " '__annotations__',\n",
       " '__class__',\n",
       " '__delattr__',\n",
       " '__dict__',\n",
       " '__dir__',\n",
       " '__doc__',\n",
       " '__eq__',\n",
       " '__format__',\n",
       " '__ge__',\n",
       " '__getattr__',\n",
       " '__getattribute__',\n",
       " '__getstate__',\n",
       " '__gt__',\n",
       " '__hash__',\n",
       " '__init__',\n",
       " '__init_subclass__',\n",
       " '__le__',\n",
       " '__lt__',\n",
       " '__module__',\n",
       " '__ne__',\n",
       " '__new__',\n",
       " '__reduce__',\n",
       " '__reduce_ex__',\n",
       " '__repr__',\n",
       " '__setattr__',\n",
       " '__setstate__',\n",
       " '__sizeof__',\n",
       " '__slots__',\n",
       " '__str__',\n",
       " '__subclasshook__',\n",
       " '__weakref__',\n",
       " '_abc_impl',\n",
       " '_get_all_attributes',\n",
       " '_get_indices',\n",
       " '_normalize_obs',\n",
       " '_reset_options',\n",
       " '_reset_seeds',\n",
       " '_sanity_checks',\n",
       " '_seeds',\n",
       " '_unnormalize_obs',\n",
       " '_update_reward',\n",
       " 'action_space',\n",
       " 'clip_obs',\n",
       " 'clip_reward',\n",
       " 'close',\n",
       " 'env_is_wrapped',\n",
       " 'env_method',\n",
       " 'epsilon',\n",
       " 'gamma',\n",
       " 'get_attr',\n",
       " 'get_images',\n",
       " 'get_original_obs',\n",
       " 'get_original_reward',\n",
       " 'getattr_depth_check',\n",
       " 'getattr_recursive',\n",
       " 'load',\n",
       " 'metadata',\n",
       " 'norm_obs',\n",
       " 'norm_obs_keys',\n",
       " 'norm_reward',\n",
       " 'normalize_obs',\n",
       " 'normalize_reward',\n",
       " 'num_envs',\n",
       " 'obs_rms',\n",
       " 'obs_spaces',\n",
       " 'observation_space',\n",
       " 'old_obs',\n",
       " 'old_reward',\n",
       " 'render',\n",
       " 'render_mode',\n",
       " 'reset',\n",
       " 'reset_infos',\n",
       " 'ret_rms',\n",
       " 'save',\n",
       " 'seed',\n",
       " 'set_attr',\n",
       " 'set_options',\n",
       " 'set_venv',\n",
       " 'step',\n",
       " 'step_async',\n",
       " 'step_wait',\n",
       " 'training',\n",
       " 'unnormalize_obs',\n",
       " 'unnormalize_reward',\n",
       " 'unwrapped',\n",
       " 'venv']"
      ]
     },
     "execution_count": 35,
     "metadata": {},
     "output_type": "execute_result"
    }
   ],
   "source": [
    "dir(vecnormalize)"
   ]
  },
  {
   "cell_type": "code",
   "execution_count": 2,
   "metadata": {},
   "outputs": [
    {
     "name": "stderr",
     "output_type": "stream",
     "text": [
      "/tmp/ipykernel_1081827/3593213435.py:1: FutureWarning: You are using `torch.load` with `weights_only=False` (the current default value), which uses the default pickle module implicitly. It is possible to construct malicious pickle data which will execute arbitrary code during unpickling (See https://github.com/pytorch/pytorch/blob/main/SECURITY.md#untrusted-models for more details). In a future release, the default value for `weights_only` will be flipped to `True`. This limits the functions that could be executed during unpickling. Arbitrary objects will no longer be allowed to be loaded via this mode unless they are explicitly allowlisted by the user via `torch.serialization.add_safe_globals`. We recommend you start setting `weights_only=True` for any use case where you don't have full control of the loaded file. Please open an issue on GitHub for any issues related to this experimental feature.\n",
      "  panda_expert = torch.load(\"/home/uoft/mithun/HierAIRL/HierAIRL_Panda_Robot/data/temp/1.torch\")\n"
     ]
    }
   ],
   "source": [
    "panda_expert = torch.load(\"/home/uoft/mithun/HierAIRL/HierAIRL_Panda_Robot/data/temp/1.torch\")"
   ]
  },
  {
   "cell_type": "code",
   "execution_count": 4,
   "metadata": {},
   "outputs": [
    {
     "data": {
      "text/plain": [
       "3"
      ]
     },
     "execution_count": 4,
     "metadata": {},
     "output_type": "execute_result"
    }
   ],
   "source": [
    "len(panda_expert)"
   ]
  },
  {
   "cell_type": "code",
   "execution_count": 8,
   "metadata": {},
   "outputs": [
    {
     "data": {
      "text/plain": [
       "torch.Size([19])"
      ]
     },
     "execution_count": 8,
     "metadata": {},
     "output_type": "execute_result"
    }
   ],
   "source": [
    "panda_expert[0][0].shape"
   ]
  },
  {
   "cell_type": "code",
   "execution_count": 3,
   "metadata": {},
   "outputs": [
    {
     "name": "stderr",
     "output_type": "stream",
     "text": [
      "/tmp/ipykernel_1084473/2421289764.py:4: FutureWarning: You are using `torch.load` with `weights_only=False` (the current default value), which uses the default pickle module implicitly. It is possible to construct malicious pickle data which will execute arbitrary code during unpickling (See https://github.com/pytorch/pytorch/blob/main/SECURITY.md#untrusted-models for more details). In a future release, the default value for `weights_only` will be flipped to `True`. This limits the functions that could be executed during unpickling. Arbitrary objects will no longer be allowed to be loaded via this mode unless they are explicitly allowlisted by the user via `torch.serialization.add_safe_globals`. We recommend you start setting `weights_only=True` for any use case where you don't have full control of the loaded file. Please open an issue on GitHub for any issues related to this experimental feature.\n",
      "  sar_tuple = torch.load(file_path)\n"
     ]
    }
   ],
   "source": [
    "sar_across_episodes = []\n",
    "for file in os.listdir(\"/home/uoft/mithun/HierAIRL/HierAIRL_Panda_Robot/data/temp\"):\n",
    "    file_path = os.path.join(\"/home/uoft/mithun/HierAIRL/HierAIRL_Panda_Robot/data/temp\", file)\n",
    "    sar_tuple = torch.load(file_path)\n",
    "    sar_across_episodes.append(sar_tuple)\n",
    "\n",
    "torch.save(sar_across_episodes, f\"/home/uoft/mithun/HierAIRL/HierAIRL_Panda_Robot/data/Panda_Robot_sample.torch\")"
   ]
  },
  {
   "cell_type": "code",
   "execution_count": null,
   "metadata": {},
   "outputs": [
    {
     "name": "stderr",
     "output_type": "stream",
     "text": [
      "/tmp/ipykernel_1151333/3795693014.py:1: FutureWarning: You are using `torch.load` with `weights_only=False` (the current default value), which uses the default pickle module implicitly. It is possible to construct malicious pickle data which will execute arbitrary code during unpickling (See https://github.com/pytorch/pytorch/blob/main/SECURITY.md#untrusted-models for more details). In a future release, the default value for `weights_only` will be flipped to `True`. This limits the functions that could be executed during unpickling. Arbitrary objects will no longer be allowed to be loaded via this mode unless they are explicitly allowlisted by the user via `torch.serialization.add_safe_globals`. We recommend you start setting `weights_only=True` for any use case where you don't have full control of the loaded file. Please open an issue on GitHub for any issues related to this experimental feature.\n",
      "  expert = torch.load(\"/home/uoft/mithun/HierAIRL/HierAIRL_Panda_Robot/data/mujoco/PandaPickAndPlace-v3_sample.torch\")\n"
     ]
    }
   ],
   "source": [
    "expert = torch.load(\"/home/uoft/mithun/HierAIRL/HierAIRL_Panda_Robot/data/mujoco/PandaPickAndPlace-v3_sample.torch\")"
   ]
  },
  {
   "cell_type": "code",
   "execution_count": 26,
   "metadata": {},
   "outputs": [],
   "source": [
    "len(expert)\n",
    "new_expert = []\n",
    "for traj in expert:\n",
    "    s, a, r = traj \n",
    "    s, a, r = torch.stack(s), torch.stack(a), torch.stack(r)\n",
    "    new_expert.append((s,a,r))\n",
    "\n",
    "torch.save(new_expert,\"/home/uoft/mithun/HierAIRL/HierAIRL_Panda_Robot/data/mujoco/PandaPickAndPlace-v3_sample.torch\")"
   ]
  },
  {
   "cell_type": "code",
   "execution_count": 25,
   "metadata": {},
   "outputs": [
    {
     "data": {
      "text/plain": [
       "3"
      ]
     },
     "execution_count": 25,
     "metadata": {},
     "output_type": "execute_result"
    }
   ],
   "source": [
    "len(new_expert)\n",
    "len(new_expert[0])\n",
    "# remove weird sample from dataset \n",
    "\n",
    "# edit env reset \n",
    "\n",
    "# eval every 20 epoch\n",
    "\n",
    "# change control frequency => can make expert trajectory longer \n",
    "# when option selected, have atleast 2 or 3 steps \n",
    "# "
   ]
  },
  {
   "cell_type": "code",
   "execution_count": 18,
   "metadata": {},
   "outputs": [
    {
     "name": "stderr",
     "output_type": "stream",
     "text": [
      "/tmp/ipykernel_1151333/3563801634.py:1: FutureWarning: You are using `torch.load` with `weights_only=False` (the current default value), which uses the default pickle module implicitly. It is possible to construct malicious pickle data which will execute arbitrary code during unpickling (See https://github.com/pytorch/pytorch/blob/main/SECURITY.md#untrusted-models for more details). In a future release, the default value for `weights_only` will be flipped to `True`. This limits the functions that could be executed during unpickling. Arbitrary objects will no longer be allowed to be loaded via this mode unless they are explicitly allowlisted by the user via `torch.serialization.add_safe_globals`. We recommend you start setting `weights_only=True` for any use case where you don't have full control of the loaded file. Please open an issue on GitHub for any issues related to this experimental feature.\n",
      "  new_expert = torch.load(\"/home/uoft/mithun/HierAIRL/HierAIRL_Panda_Robot/data/mujoco/PandaPickAndPlace-v3_sample.torch\")\n"
     ]
    }
   ],
   "source": [
    "new_expert = torch.load(\"/home/uoft/mithun/HierAIRL/HierAIRL_Panda_Robot/data/mujoco/PandaPickAndPlace-v3_sample.torch\")\n",
    "new_expert_v2 = []\n",
    "for idx, traj in enumerate(new_expert):\n",
    "    s, a, r = traj\n",
    "    a = a.squeeze(1)\n",
    "    traj = (s,a,r)\n",
    "    if s.shape[0] != a.shape[0]:\n",
    "        print(idx)\n",
    "        print(s.shape, a.shape)\n",
    "        print(s, a, r)\n",
    "    else:\n",
    "        new_expert_v2.append(traj)\n",
    "\n",
    "torch.save(new_expert_v2, f\"/home/uoft/mithun/HierAIRL/HierAIRL_Panda_Robot/data/mujoco/PandaPickAndPlace-v3_sample.torch\")"
   ]
  },
  {
   "cell_type": "code",
   "execution_count": 20,
   "metadata": {},
   "outputs": [
    {
     "name": "stdout",
     "output_type": "stream",
     "text": [
      "torch.Size([11, 4])\n",
      "torch.Size([8, 4])\n",
      "torch.Size([10, 4])\n",
      "torch.Size([8, 4])\n",
      "torch.Size([8, 4])\n",
      "torch.Size([9, 4])\n",
      "torch.Size([5, 4])\n",
      "torch.Size([9, 4])\n",
      "torch.Size([8, 4])\n",
      "torch.Size([7, 4])\n",
      "torch.Size([7, 4])\n",
      "torch.Size([8, 4])\n",
      "torch.Size([6, 4])\n",
      "torch.Size([10, 4])\n",
      "torch.Size([7, 4])\n",
      "torch.Size([9, 4])\n",
      "torch.Size([11, 4])\n",
      "torch.Size([1, 4])\n",
      "torch.Size([8, 4])\n",
      "torch.Size([10, 4])\n",
      "torch.Size([8, 4])\n",
      "torch.Size([6, 4])\n",
      "torch.Size([10, 4])\n",
      "torch.Size([6, 4])\n",
      "torch.Size([8, 4])\n",
      "torch.Size([7, 4])\n",
      "torch.Size([7, 4])\n",
      "torch.Size([6, 4])\n",
      "torch.Size([7, 4])\n",
      "torch.Size([6, 4])\n",
      "torch.Size([7, 4])\n",
      "torch.Size([7, 4])\n",
      "torch.Size([7, 4])\n",
      "torch.Size([9, 4])\n",
      "torch.Size([9, 4])\n",
      "torch.Size([12, 4])\n",
      "torch.Size([10, 4])\n",
      "torch.Size([7, 4])\n",
      "torch.Size([9, 4])\n",
      "torch.Size([6, 4])\n",
      "torch.Size([11, 4])\n",
      "torch.Size([10, 4])\n",
      "torch.Size([8, 4])\n",
      "torch.Size([6, 4])\n",
      "torch.Size([8, 4])\n",
      "torch.Size([8, 4])\n",
      "torch.Size([9, 4])\n",
      "torch.Size([5, 4])\n",
      "torch.Size([7, 4])\n",
      "torch.Size([7, 4])\n",
      "torch.Size([10, 4])\n",
      "torch.Size([6, 4])\n",
      "torch.Size([7, 4])\n",
      "torch.Size([8, 4])\n",
      "torch.Size([10, 4])\n",
      "torch.Size([10, 4])\n",
      "torch.Size([8, 4])\n",
      "torch.Size([9, 4])\n",
      "torch.Size([10, 4])\n",
      "torch.Size([6, 4])\n",
      "torch.Size([7, 4])\n",
      "torch.Size([1, 4])\n",
      "torch.Size([8, 4])\n",
      "torch.Size([7, 4])\n",
      "torch.Size([7, 4])\n",
      "torch.Size([6, 4])\n",
      "torch.Size([6, 4])\n",
      "torch.Size([8, 4])\n",
      "torch.Size([7, 4])\n",
      "torch.Size([8, 4])\n",
      "torch.Size([9, 4])\n",
      "torch.Size([6, 4])\n",
      "torch.Size([7, 4])\n",
      "torch.Size([9, 4])\n",
      "torch.Size([4, 4])\n",
      "torch.Size([10, 4])\n",
      "torch.Size([9, 4])\n",
      "torch.Size([9, 4])\n",
      "torch.Size([7, 4])\n",
      "torch.Size([6, 4])\n",
      "torch.Size([9, 4])\n",
      "torch.Size([9, 4])\n",
      "torch.Size([10, 4])\n",
      "torch.Size([6, 4])\n",
      "torch.Size([9, 4])\n",
      "torch.Size([13, 4])\n",
      "torch.Size([9, 4])\n",
      "torch.Size([6, 4])\n",
      "torch.Size([11, 4])\n",
      "torch.Size([5, 4])\n",
      "torch.Size([8, 4])\n",
      "torch.Size([8, 4])\n",
      "torch.Size([6, 4])\n",
      "torch.Size([10, 4])\n",
      "torch.Size([8, 4])\n",
      "torch.Size([8, 4])\n",
      "torch.Size([7, 4])\n",
      "torch.Size([8, 4])\n",
      "torch.Size([7, 4])\n",
      "torch.Size([4, 4])\n",
      "torch.Size([9, 4])\n",
      "torch.Size([7, 4])\n",
      "torch.Size([8, 4])\n",
      "torch.Size([5, 4])\n",
      "torch.Size([5, 4])\n",
      "torch.Size([10, 4])\n",
      "torch.Size([9, 4])\n",
      "torch.Size([9, 4])\n",
      "torch.Size([9, 4])\n",
      "torch.Size([11, 4])\n",
      "torch.Size([10, 4])\n",
      "torch.Size([1, 4])\n",
      "torch.Size([9, 4])\n",
      "torch.Size([9, 4])\n",
      "torch.Size([4, 4])\n",
      "torch.Size([1, 4])\n",
      "torch.Size([9, 4])\n",
      "torch.Size([8, 4])\n",
      "torch.Size([7, 4])\n",
      "torch.Size([6, 4])\n",
      "torch.Size([10, 4])\n",
      "torch.Size([7, 4])\n",
      "torch.Size([6, 4])\n",
      "torch.Size([7, 4])\n",
      "torch.Size([5, 4])\n",
      "torch.Size([9, 4])\n",
      "torch.Size([8, 4])\n",
      "torch.Size([8, 4])\n",
      "torch.Size([11, 4])\n",
      "torch.Size([8, 4])\n",
      "torch.Size([10, 4])\n",
      "torch.Size([8, 4])\n",
      "torch.Size([8, 4])\n",
      "torch.Size([9, 4])\n",
      "torch.Size([5, 4])\n",
      "torch.Size([9, 4])\n",
      "torch.Size([8, 4])\n",
      "torch.Size([7, 4])\n",
      "torch.Size([7, 4])\n",
      "torch.Size([8, 4])\n",
      "torch.Size([6, 4])\n",
      "torch.Size([10, 4])\n",
      "torch.Size([7, 4])\n",
      "torch.Size([9, 4])\n",
      "torch.Size([11, 4])\n",
      "torch.Size([1, 4])\n",
      "torch.Size([8, 4])\n",
      "torch.Size([10, 4])\n",
      "torch.Size([8, 4])\n",
      "torch.Size([6, 4])\n",
      "torch.Size([10, 4])\n",
      "torch.Size([6, 4])\n",
      "torch.Size([8, 4])\n",
      "torch.Size([7, 4])\n",
      "torch.Size([7, 4])\n",
      "torch.Size([6, 4])\n",
      "torch.Size([7, 4])\n",
      "torch.Size([6, 4])\n",
      "torch.Size([7, 4])\n",
      "torch.Size([7, 4])\n",
      "torch.Size([7, 4])\n",
      "torch.Size([9, 4])\n",
      "torch.Size([9, 4])\n",
      "torch.Size([12, 4])\n",
      "torch.Size([10, 4])\n",
      "torch.Size([7, 4])\n",
      "torch.Size([9, 4])\n",
      "torch.Size([6, 4])\n",
      "torch.Size([11, 4])\n",
      "torch.Size([10, 4])\n",
      "torch.Size([8, 4])\n",
      "torch.Size([6, 4])\n",
      "torch.Size([8, 4])\n",
      "torch.Size([8, 4])\n",
      "torch.Size([9, 4])\n",
      "torch.Size([5, 4])\n",
      "torch.Size([7, 4])\n",
      "torch.Size([7, 4])\n",
      "torch.Size([10, 4])\n",
      "torch.Size([6, 4])\n",
      "torch.Size([7, 4])\n",
      "torch.Size([8, 4])\n",
      "torch.Size([10, 4])\n",
      "torch.Size([10, 4])\n",
      "torch.Size([8, 4])\n",
      "torch.Size([9, 4])\n",
      "torch.Size([10, 4])\n",
      "torch.Size([6, 4])\n",
      "torch.Size([7, 4])\n",
      "torch.Size([1, 4])\n",
      "torch.Size([8, 4])\n",
      "torch.Size([7, 4])\n",
      "torch.Size([7, 4])\n",
      "torch.Size([6, 4])\n",
      "torch.Size([6, 4])\n",
      "torch.Size([8, 4])\n",
      "torch.Size([7, 4])\n",
      "torch.Size([8, 4])\n",
      "torch.Size([9, 4])\n",
      "torch.Size([6, 4])\n",
      "torch.Size([7, 4])\n",
      "torch.Size([9, 4])\n",
      "torch.Size([4, 4])\n",
      "torch.Size([10, 4])\n",
      "torch.Size([9, 4])\n",
      "torch.Size([9, 4])\n",
      "torch.Size([7, 4])\n",
      "torch.Size([6, 4])\n",
      "torch.Size([9, 4])\n",
      "torch.Size([9, 4])\n",
      "torch.Size([10, 4])\n",
      "torch.Size([6, 4])\n",
      "torch.Size([9, 4])\n",
      "torch.Size([13, 4])\n",
      "torch.Size([9, 4])\n",
      "torch.Size([6, 4])\n",
      "torch.Size([11, 4])\n",
      "torch.Size([5, 4])\n",
      "torch.Size([8, 4])\n",
      "torch.Size([8, 4])\n",
      "torch.Size([6, 4])\n",
      "torch.Size([10, 4])\n",
      "torch.Size([8, 4])\n",
      "torch.Size([8, 4])\n",
      "torch.Size([7, 4])\n",
      "torch.Size([8, 4])\n",
      "torch.Size([7, 4])\n",
      "torch.Size([4, 4])\n",
      "torch.Size([9, 4])\n",
      "torch.Size([7, 4])\n",
      "torch.Size([8, 4])\n",
      "torch.Size([5, 4])\n",
      "torch.Size([5, 4])\n",
      "torch.Size([10, 4])\n",
      "torch.Size([9, 4])\n",
      "torch.Size([9, 4])\n",
      "torch.Size([9, 4])\n",
      "torch.Size([11, 4])\n",
      "torch.Size([10, 4])\n",
      "torch.Size([1, 4])\n",
      "torch.Size([9, 4])\n",
      "torch.Size([9, 4])\n",
      "torch.Size([4, 4])\n",
      "torch.Size([1, 4])\n",
      "torch.Size([9, 4])\n",
      "torch.Size([8, 4])\n",
      "torch.Size([7, 4])\n",
      "torch.Size([6, 4])\n",
      "torch.Size([10, 4])\n",
      "torch.Size([7, 4])\n",
      "torch.Size([6, 4])\n",
      "torch.Size([7, 4])\n",
      "torch.Size([5, 4])\n",
      "torch.Size([9, 4])\n",
      "torch.Size([8, 4])\n",
      "torch.Size([8, 4])\n"
     ]
    },
    {
     "name": "stderr",
     "output_type": "stream",
     "text": [
      "/tmp/ipykernel_1151333/3708950331.py:1: FutureWarning: You are using `torch.load` with `weights_only=False` (the current default value), which uses the default pickle module implicitly. It is possible to construct malicious pickle data which will execute arbitrary code during unpickling (See https://github.com/pytorch/pytorch/blob/main/SECURITY.md#untrusted-models for more details). In a future release, the default value for `weights_only` will be flipped to `True`. This limits the functions that could be executed during unpickling. Arbitrary objects will no longer be allowed to be loaded via this mode unless they are explicitly allowlisted by the user via `torch.serialization.add_safe_globals`. We recommend you start setting `weights_only=True` for any use case where you don't have full control of the loaded file. Please open an issue on GitHub for any issues related to this experimental feature.\n",
      "  edited_expert = torch.load(\"/home/uoft/mithun/HierAIRL/HierAIRL_Panda_Robot/data/mujoco/PandaPickAndPlace-v3_sample.torch\")\n"
     ]
    }
   ],
   "source": [
    "edited_expert = torch.load(\"/home/uoft/mithun/HierAIRL/HierAIRL_Panda_Robot/data/mujoco/PandaPickAndPlace-v3_sample.torch\")\n",
    "for idx, traj in enumerate(edited_expert):\n",
    "    s,a,r = traj\n",
    "    print(a.shape)\n",
    "    if s.shape[0] != a.shape[0]:\n",
    "        print(idx)"
   ]
  },
  {
   "cell_type": "code",
   "execution_count": 20,
   "metadata": {},
   "outputs": [
    {
     "ename": "ValueError",
     "evalue": "too many values to unpack (expected 3)",
     "output_type": "error",
     "traceback": [
      "\u001b[0;31m---------------------------------------------------------------------------\u001b[0m",
      "\u001b[0;31mValueError\u001b[0m                                Traceback (most recent call last)",
      "Cell \u001b[0;32mIn[20], line 1\u001b[0m\n\u001b[0;32m----> 1\u001b[0m s, a, r \u001b[38;5;241m=\u001b[39m expert\n\u001b[1;32m      2\u001b[0m \u001b[38;5;28mlen\u001b[39m(s)\n",
      "\u001b[0;31mValueError\u001b[0m: too many values to unpack (expected 3)"
     ]
    }
   ],
   "source": [
    "s, a, r = expert\n",
    "len(s)"
   ]
  },
  {
   "cell_type": "code",
   "execution_count": 13,
   "metadata": {},
   "outputs": [],
   "source": [
    "s_tensor = torch.stack(s)\n",
    "a_tensor = torch.stack(a)\n",
    "r_tensor = torch.stack(r)\n",
    "torch.save((s_tensor,a_tensor,r_tensor),\"/home/uoft/mithun/HierAIRL/HierAIRL_Panda_Robot/data/mujoco/PandaPickAndPlace-v3_sample.torch\")"
   ]
  },
  {
   "cell_type": "code",
   "execution_count": 14,
   "metadata": {},
   "outputs": [
    {
     "name": "stderr",
     "output_type": "stream",
     "text": [
      "/tmp/ipykernel_1099061/2887044095.py:1: FutureWarning: You are using `torch.load` with `weights_only=False` (the current default value), which uses the default pickle module implicitly. It is possible to construct malicious pickle data which will execute arbitrary code during unpickling (See https://github.com/pytorch/pytorch/blob/main/SECURITY.md#untrusted-models for more details). In a future release, the default value for `weights_only` will be flipped to `True`. This limits the functions that could be executed during unpickling. Arbitrary objects will no longer be allowed to be loaded via this mode unless they are explicitly allowlisted by the user via `torch.serialization.add_safe_globals`. We recommend you start setting `weights_only=True` for any use case where you don't have full control of the loaded file. Please open an issue on GitHub for any issues related to this experimental feature.\n",
      "  hopper = torch.load(\"/home/uoft/mithun/HierAIRL/HierAIRL_Hopper/data/mujoco/Hopper-v2_sample.torch\")\n"
     ]
    }
   ],
   "source": [
    "hopper = torch.load(\"/home/uoft/mithun/HierAIRL/HierAIRL_Hopper/data/mujoco/Hopper-v2_sample.torch\")"
   ]
  },
  {
   "cell_type": "markdown",
   "metadata": {},
   "source": []
  },
  {
   "cell_type": "code",
   "execution_count": 17,
   "metadata": {},
   "outputs": [
    {
     "data": {
      "text/plain": [
       "torch.Size([1000, 11])"
      ]
     },
     "execution_count": 17,
     "metadata": {},
     "output_type": "execute_result"
    }
   ],
   "source": [
    "s, a, r = hopper[0]\n",
    "s.shape"
   ]
  },
  {
   "cell_type": "code",
   "execution_count": 18,
   "metadata": {},
   "outputs": [
    {
     "data": {
      "text/plain": [
       "torch.Size([11, 19])"
      ]
     },
     "execution_count": 18,
     "metadata": {},
     "output_type": "execute_result"
    }
   ],
   "source": [
    "s_tensor.shape\n",
    "len(s)"
   ]
  }
 ],
 "metadata": {
  "kernelspec": {
   "display_name": "panda_env",
   "language": "python",
   "name": "python3"
  },
  "language_info": {
   "codemirror_mode": {
    "name": "ipython",
    "version": 3
   },
   "file_extension": ".py",
   "mimetype": "text/x-python",
   "name": "python",
   "nbconvert_exporter": "python",
   "pygments_lexer": "ipython3",
   "version": "3.8.10"
  }
 },
 "nbformat": 4,
 "nbformat_minor": 2
}
